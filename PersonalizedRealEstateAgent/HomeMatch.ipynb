{
 "cells": [
  {
   "cell_type": "markdown",
   "id": "a108af04",
   "metadata": {},
   "source": [
    "This is a starter notebook for the project, you'll have to import the libraries you'll need, you can find a list of the ones available in this workspace in the requirements.txt file in this workspace. "
   ]
  },
  {
   "cell_type": "markdown",
   "id": "c5a9307b",
   "metadata": {},
   "source": [
    "# Step 1: Setting Up the Python Application"
   ]
  },
  {
   "cell_type": "code",
   "execution_count": null,
   "id": "44bdfe80",
   "metadata": {},
   "outputs": [],
   "source": [
    "#!pip install -r requirements.txt\n",
    "#!pip install openai\n",
    "#!pip install langchain\n",
    "#!pip install langchain_core\n",
    "#!pip install langchain_openai\n",
    "#!pip install lancedb\n",
    "!pip install pandas"
   ]
  },
  {
   "cell_type": "code",
   "execution_count": null,
   "id": "331098ef",
   "metadata": {},
   "outputs": [],
   "source": [
    "import os\n",
    "import pandas as pd\n",
    "import chromadb\n",
    "from langchain import LLMChain\n",
    "from langchain.llms import OpenAI\n",
    "from langchain.prompts import PromptTemplate\n",
    "from langchain.embeddings.openai import OpenAIEmbeddings\n",
    "from langchain.chains.question_answering import load_qa_chain\n",
    "from langchain.vectorstores import Chroma\n",
    "from langchain.chat_models import ChatOpenAI\n",
    "from io import StringIO"
   ]
  },
  {
   "cell_type": "code",
   "execution_count": null,
   "id": "6554fd4c",
   "metadata": {},
   "outputs": [],
   "source": [
    "os.environ[\"OPENAI_API_KEY\"] = \"YOUR API KEY\"\n",
    "\n",
    "MODEL_NAME = \"gpt-3.5-turbo\"\n",
    "MAX_TOKENS = 3000\n",
    "\n",
    "llm = ChatOpenAI(model_name=MODEL_NAME, temperature=0.7, max_tokens=MAX_TOKENS)"
   ]
  },
  {
   "cell_type": "markdown",
   "id": "d161f3ed",
   "metadata": {},
   "source": [
    "# Step 2: Generating Real Estate Listings"
   ]
  },
  {
   "cell_type": "code",
   "execution_count": null,
   "id": "142fad70",
   "metadata": {},
   "outputs": [],
   "source": [
    "LISTINGS_FILE = \"listings.csv\"\n",
    "\n",
    "gen_listing_template = \"\"\"You are an expert real estate agent in New York City.\n",
    "Generate {num_listings} real estate listings in CSV format. \n",
    "Each listing should represent a realistic property and include the following fields:\n",
    "name: Grey house,\n",
    "neighborhood: A neighborhood, city, or region where the property is located.\n",
    "price: The asking price for the property in USD.\n",
    "bedrooms: The number of bedrooms.\n",
    "bathrooms: The number of bathrooms.\n",
    "house_size: The size of the property in square feet.\n",
    "description: A detailed, appealing paragraph describing the property, including unique features, amenities, nearby attractions, and potential selling points.\n",
    "neighborhood_description: A detailed, appealing paragraph describing the neighborhood, including comunity access, facilities etc\n",
    "Additional Guidelines:\n",
    "Realistic Listings: Use real-world trends and plausible details for the properties. Avoid overly generic descriptions.\n",
    "Variety: Include a mix of property types (e.g., apartments, single-family homes, townhouses, luxury condos) and diverse locations.\n",
    "Creativity and Specificity: Write vivid and engaging descriptions that highlight unique aspects of each property (e.g., architectural style, appliances, views, proximity to landmarks).\n",
    "Accuracy: Ensure consistency between fields like location, list_price, and description. For example, a high-end listing should have features that justify its price.\n",
    "\n",
    "Be creative in your listings. The CSV format is a must, separator is \";\", one line per listing, labels in first line.\n",
    "\"\"\"\n",
    "\n",
    "# create prompt\n",
    "prompt = PromptTemplate.from_template(gen_listing_template).format(num_listings=20)\n",
    "\n",
    "#generate listing\n",
    "real_estate_listings = llm.invoke(prompt).content\n",
    "\n",
    "print(real_estate_listings)\n",
    "\n",
    "#make a data frame\n",
    "df = pd.read_csv(StringIO(real_estate_listings), sep=';')\n",
    "# save the data frame to a CSV file\n",
    "df.to_csv('listings.csv', index=False)"
   ]
  },
  {
   "cell_type": "markdown",
   "id": "61096f1e",
   "metadata": {},
   "source": [
    "# Step 3: Storing Listings in a Vector Database"
   ]
  },
  {
   "cell_type": "code",
   "execution_count": null,
   "id": "ad6b8112",
   "metadata": {},
   "outputs": [],
   "source": [
    "from langchain.document_loaders.csv_loader import CSVLoader\n",
    "from langchain.text_splitter import RecursiveCharacterTextSplitter\n",
    "\n",
    "# initialize and configure ChromaDB to store real estate listings\n",
    "CHROMA_PATH = \"chroma-db\"\n",
    "\n",
    "# load documents\n",
    "loader = CSVLoader(file_path='./listings.csv')\n",
    "documents = loader.load()\n",
    "\n",
    "\n",
    "# split document\n",
    "text_splitter = RecursiveCharacterTextSplitter(\n",
    "    chunk_size=500,\n",
    "    chunk_overlap=10,\n",
    "    length_function=len,\n",
    "    add_start_index=True,\n",
    ")\n",
    "chunks = text_splitter.split_documents(documents)\n",
    "print(f\"Split {len(documents)} documents into {len(chunks)} chunks.\")\n",
    "\n",
    "embeddings = OpenAIEmbeddings()\n",
    "\n",
    "# save to vector database\n",
    "db = Chroma.from_documents(\n",
    "    chunks, embeddings, \n",
    "    persist_directory=CHROMA_PATH,\n",
    "    collection_name=\"listings\"\n",
    ")\n",
    "db.persist()\n",
    "print(f\"Saved {len(chunks)} chunks to {CHROMA_PATH}.\")"
   ]
  },
  {
   "cell_type": "markdown",
   "id": "87f18c6f",
   "metadata": {},
   "source": [
    "# Step 4: Building the User Preference Interface"
   ]
  },
  {
   "cell_type": "code",
   "execution_count": null,
   "id": "342274da",
   "metadata": {},
   "outputs": [],
   "source": [
    " user_preferences = \" \".join([\n",
    "    \"A comfortable three-bedroom house with a spacious kitchen and a cozy living room.\",\n",
    "    \"A quiet neighborhood, good local schools, and convenient shopping options.\",\n",
    "    \"A backyard for gardening, a two-car garage, and a modern, energy-efficient heating system.\",\n",
    "    \"Easy access to a reliable bus line, proximity to a major highway, and bike-friendly roads.\",\n",
    "    \"A balance between suburban tranquility and access to urban amenities like restaurants and theaters.\"\n",
    "    ])"
   ]
  },
  {
   "cell_type": "markdown",
   "id": "a0d97309",
   "metadata": {},
   "source": [
    "# Step 5: Searching Based on Preferences"
   ]
  },
  {
   "cell_type": "code",
   "execution_count": null,
   "id": "8a9079a3",
   "metadata": {},
   "outputs": [],
   "source": [
    " # perform similarity search\n",
    "matched_listings = db.similarity_search(user_preferences, k=3)  \n",
    "matching_listings = []\n",
    "\n",
    "for doc in matched_listings:\n",
    "    print(f\"{doc.page_content}, \\n\\nMetadata: {doc.metadata}\")\n",
    "    print(\"---\")\n",
    "    \n",
    "if matched_listings:\n",
    "    df = pd.read_csv('./listings.csv')\n",
    "    for match in matched_listings:\n",
    "        row_index = match.metadata['row']\n",
    "        matching_listing = df.iloc[row_index]\n",
    "        print(f\"\\nMatched Listing:\\n\\n{matching_listing}\")\n",
    "        matching_listings.append({\"text\": matching_listing, \"row\": row_index})\n",
    "\n",
    "if not matching_listings:\n",
    "    print(\"No matching listings found.\")\n",
    "\n"
   ]
  },
  {
   "cell_type": "markdown",
   "id": "a1c86fdc",
   "metadata": {},
   "source": [
    "# Step 6: Personalizing Listing Descriptions"
   ]
  },
  {
   "cell_type": "code",
   "execution_count": null,
   "id": "f0261b0e",
   "metadata": {},
   "outputs": [],
   "source": [
    "def enhance_listing(user_preferences, original_listings):\n",
    "\n",
    "    enhanced_listings = []\n",
    "\n",
    "    for matching_listing in original_listings:\n",
    "        prompt = f\"\"\"\n",
    "        Generate an updated real estate listing by aligning the general description with the user's preferences while preserving factual details.\n",
    "\n",
    "        Instructions:\n",
    "        - Use the provided data from the original listing (below) to fill in the fields.\n",
    "        - Do not change factual details such as the name, neighborhood, neighborhood_description, price, number of bedrooms, bathrooms, or house size.\n",
    "        - Update the description to reflect the user's stated {user_preferences}, but still combine it with the original description\n",
    "\n",
    "        Fill in the fields using the exact data from the original listing\n",
    "        {matching_listing[\"text\"]}\n",
    "        Output format must be: \n",
    "        name:\n",
    "        neighborhood:\n",
    "        price: \n",
    "        bedrooms: \n",
    "        bathrooms: \n",
    "        house size: \n",
    "        =====\n",
    "        description:\n",
    "        \"\"\"\n",
    "\n",
    "        response = llm.invoke(prompt)\n",
    "        new_listing = response.content.strip()\n",
    "        enhanced_listings.append(new_listing)\n",
    "\n",
    "    return enhanced_listings\n",
    "\n",
    "# enhance original listing\n",
    "enhanced_listings = enhance_listing(user_preferences, matching_listings)\n",
    "\n",
    "# print all newly updated listings\n",
    "print(\"\\nPersonalized listing:\\n\")\n",
    "for updated_listing in enhanced_listings:\n",
    "    print(updated_listing)\n",
    "    print(\"\\n---\\n\")  \n"
   ]
  },
  {
   "cell_type": "code",
   "execution_count": null,
   "id": "8a6a6ade",
   "metadata": {},
   "outputs": [],
   "source": []
  },
  {
   "cell_type": "code",
   "execution_count": null,
   "id": "a3664d8b",
   "metadata": {},
   "outputs": [],
   "source": []
  }
 ],
 "metadata": {
  "kernelspec": {
   "display_name": "Python 3 (ipykernel)",
   "language": "python",
   "name": "python3"
  },
  "language_info": {
   "codemirror_mode": {
    "name": "ipython",
    "version": 3
   },
   "file_extension": ".py",
   "mimetype": "text/x-python",
   "name": "python",
   "nbconvert_exporter": "python",
   "pygments_lexer": "ipython3",
   "version": "3.10.11"
  }
 },
 "nbformat": 4,
 "nbformat_minor": 5
}
